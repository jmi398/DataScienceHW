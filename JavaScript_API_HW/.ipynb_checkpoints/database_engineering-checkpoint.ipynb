{
 "cells": [
  {
   "cell_type": "code",
   "execution_count": 30,
   "metadata": {},
   "outputs": [],
   "source": [
    "# Imports\n",
    "### END SOLUTION\n",
    "import pandas as pd\n",
    "import sqlalchemy\n",
    "from sqlalchemy import create_engine, MetaData\n",
    "from sqlalchemy.ext.declarative import declarative_base\n",
    "from sqlalchemy import Column, Integer, String, Numeric, Text, Float, ForeignKey\n",
    "from sqlalchemy.orm import sessionmaker, relationship\n",
    "### END SOLUTION"
   ]
  },
  {
   "cell_type": "code",
   "execution_count": 31,
   "metadata": {
    "collapsed": true
   },
   "outputs": [],
   "source": [
    "# Create Engine\n",
    "### BEGIN SOLUTION\n",
    "engine = create_engine(\"sqlite:///belly_button_biodiversity.sqlite\")\n",
    "### END SOLUTION"
   ]
  },
  {
   "cell_type": "code",
   "execution_count": 32,
   "metadata": {
    "collapsed": true
   },
   "outputs": [],
   "source": [
    "# Use `declarative_base` from SQLAlchemy to model the table as an ORM class\n",
    "# Make sure to specify types for each column\n",
    "\n",
    "# Declare a Base object here\n",
    "### BEGIN SOLUTION\n",
    "Base = declarative_base()\n",
    "### END SOLUTION"
   ]
  },
  {
   "cell_type": "code",
   "execution_count": 33,
   "metadata": {
    "collapsed": true
   },
   "outputs": [],
   "source": [
    "# Define the ORM class for `Bellybutton`\n",
    "### BEGIN SOLUTION\n",
    "class Bellybutton(Base):\n",
    "    \n",
    "    __tablename__ = 'bellybutton'\n",
    "\n",
    "    id = Column(Integer, primary_key=True)\n",
    "    sampleID = Column(Integer)\n",
    "    event = Column(Text)\n",
    "    ethnicity = Column(Text)\n",
    "    gender = Column(Text)\n",
    "    age = Column(Integer)\n",
    "    wfreq = Column(Integer)\n",
    "    bbtype = Column(Text)\n",
    "    location = Column(Text)\n",
    "    country012 = Column(Text)\n",
    "    zip012 = Column(Integer)\n",
    "    \n",
    "    def __repr__(self):\n",
    "        return f\"id={self.id}, name={self.sampleID}\"\n",
    "#     country1319 = Column(Text)\n",
    "#     zip1319 = Column(Integer)\n",
    "#     dog = Column(Text)\n",
    "#     cat = Column(Text)\n",
    "#     impsurface013 = Column(Integer)\n",
    "#     npp013 = Column(Float)\n",
    "#     mmaxtemp013 = Column(Float)\n",
    "#     pfc013 = Column(Integer)\n",
    "#     impsurface1319 = Column(Integer)\n",
    "#     npp1319 = Column(Integer)\n",
    "#     mmaxtemp1319 = Column(Float)\n",
    "#     pfc1319 = Column(Float)\n",
    "    \n",
    "### END SOLUTION"
   ]
  },
  {
   "cell_type": "code",
   "execution_count": 34,
   "metadata": {
    "collapsed": true
   },
   "outputs": [],
   "source": [
    "# Use `create_all` to create the tables\n",
    "### BEGIN SOLUTION\n",
    "Base.metadata.create_all(engine)"
   ]
  },
  {
   "cell_type": "code",
   "execution_count": 35,
   "metadata": {},
   "outputs": [
    {
     "data": {
      "text/plain": [
       "['bellybutton', 'otu', 'samples', 'samples_metadata']"
      ]
     },
     "execution_count": 35,
     "metadata": {},
     "output_type": "execute_result"
    }
   ],
   "source": [
    "# Verify that the table names exist in the database# Verif \n",
    "### BEGIN SOLUTION\n",
    "engine.table_names()"
   ]
  },
  {
   "cell_type": "code",
   "execution_count": 36,
   "metadata": {},
   "outputs": [],
   "source": [
    "# Use Pandas to Bulk insert each CSV file into their appropriate table# Use P \n",
    "### BEGIN SOLUTION\n",
    "def populate_table(engine, table, csvfile):\n",
    "    \"\"\"Populates a table from a Pandas DataFrame.\"\"\"\n",
    "    # connect to the database\n",
    "    conn = engine.connect()\n",
    "    \n",
    "    # Load the CSV file into a pandas dataframe \n",
    "    df_of_data_to_insert = pd.read_csv(csvfile)\n",
    "    \n",
    "    # Orient='records' creates a list of data to write\n",
    "    # http://pandas-docs.github.io/pandas-docs-travis/io.html#orient-options\n",
    "    data = df_of_data_to_insert.to_dict(orient='records')\n",
    "\n",
    "    # Optional: Delete all rows in the table \n",
    "    conn.execute(table.delete())\n",
    "\n",
    "    # Insert the dataframe into the database in one bulk insert\n",
    "    conn.execute(table.insert(), data)\n",
    "    \n",
    "# Call the function to insert the data for each table\n",
    "populate_table(engine, Bellybutton.__table__, 'Belly_Button_Biodiversity_Metadata.csv')"
   ]
  },
  {
   "cell_type": "code",
   "execution_count": 37,
   "metadata": {},
   "outputs": [
    {
     "data": {
      "text/plain": [
       "[(1, None, None, None, None, None, None, None, None, None, None, None, None, None, None, None, None, None, None, None, None, None),\n",
       " (2, None, None, None, None, None, None, None, None, None, None, None, None, None, None, None, None, None, None, None, None, None),\n",
       " (3, None, None, None, None, None, None, None, None, None, None, None, None, None, None, None, None, None, None, None, None, None),\n",
       " (4, None, None, None, None, None, None, None, None, None, None, None, None, None, None, None, None, None, None, None, None, None),\n",
       " (5, None, None, None, None, None, None, None, None, None, None, None, None, None, None, None, None, None, None, None, None, None)]"
      ]
     },
     "execution_count": 37,
     "metadata": {},
     "output_type": "execute_result"
    }
   ],
   "source": [
    "# Use a basic query to validate that the data was inserted correctly for table `measurement`# Use a  \n",
    "### BEGIN SOLUTION\n",
    "engine.execute(\"SELECT * FROM bellybutton LIMIT 5\").fetchall()"
   ]
  },
  {
   "cell_type": "code",
   "execution_count": null,
   "metadata": {
    "collapsed": true
   },
   "outputs": [],
   "source": []
  }
 ],
 "metadata": {
  "kernelspec": {
   "display_name": "Python 3",
   "language": "python",
   "name": "python3"
  },
  "language_info": {
   "codemirror_mode": {
    "name": "ipython",
    "version": 3
   },
   "file_extension": ".py",
   "mimetype": "text/x-python",
   "name": "python",
   "nbconvert_exporter": "python",
   "pygments_lexer": "ipython3",
   "version": "3.6.3"
  }
 },
 "nbformat": 4,
 "nbformat_minor": 2
}
