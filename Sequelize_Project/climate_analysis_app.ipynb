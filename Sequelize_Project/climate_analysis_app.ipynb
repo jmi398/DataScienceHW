{
 "cells": [
  {
   "cell_type": "code",
   "execution_count": 14,
   "metadata": {
    "collapsed": true
   },
   "outputs": [],
   "source": [
    "# Import Python SQL toolkit and Object Relational Mapper\n",
    "import sqlalchemy\n",
    "from sqlalchemy.ext.automap import automap_base\n",
    "from sqlalchemy.orm import Session\n",
    "from sqlalchemy import create_engine, inspect, func, desc\n",
    "import datetime as dt\n",
    "import pandas as pd\n",
    "import matplotlib.pyplot as plt\n",
    "import numpy as np\n",
    "# Import flask \n",
    "from flask import Flask, jsonify\n"
   ]
  },
  {
   "cell_type": "code",
   "execution_count": 15,
   "metadata": {
    "collapsed": true
   },
   "outputs": [],
   "source": [
    "# Use create_engine to connect to your sqlite database\n",
    "engine = create_engine(\"sqlite:///hawaii.sqlite\", echo=False)\n",
    "\n",
    "# reflect an existing database into a new model\n",
    "Base = automap_base()\n",
    "# reflect the tables\n",
    "Base.prepare(engine, reflect=True)\n",
    "\n",
    "# Save a reference to those classes called Station and Measurement\n",
    "Measurement = Base.classes.measurement\n",
    "Station = Base.classes.station\n",
    "\n",
    "# Create our session (link) from Python to the DB\n",
    "session = Session(engine)"
   ]
  },
  {
   "cell_type": "code",
   "execution_count": 16,
   "metadata": {
    "collapsed": true
   },
   "outputs": [],
   "source": [
    "# date 1 year ago from today\n",
    "year_ago = dt.date.today() - dt.timedelta(days=365)\n",
    "today = dt.date.today()"
   ]
  },
  {
   "cell_type": "code",
   "execution_count": 17,
   "metadata": {
    "collapsed": true
   },
   "outputs": [],
   "source": [
    "# Flask Setup\n",
    "app = Flask(__name__)\n",
    "\n",
    "@app.route(\"/api/v1.0/precipitation\")\n",
    "def precipitation():\n",
    "    # Query for precipitation\n",
    "    results = session.query(Measurement.date, Measurement.prcp).\\\n",
    "    filter(Measurement.date > year_ago).\\\n",
    "    filter (Measurement.date < today).all()\n",
    "    \n",
    "    all_prcp = []  \n",
    "    \n",
    "    for item in results:\n",
    "        prcp_dict = {}\n",
    "        prcp_dict[\"date\"] = item.date\n",
    "        prcp_dict[\"prcp\"] = item.prcp\n",
    "        all_prcp.append(prcp_dict)    \n",
    "\n",
    "    return jsonify(all_prcp)"
   ]
  },
  {
   "cell_type": "code",
   "execution_count": 18,
   "metadata": {
    "collapsed": true
   },
   "outputs": [],
   "source": [
    "@app.route(\"/api/v1.0/stations\")\n",
    "def stations():\n",
    "    \n",
    "    results = session.query(Measurement.station).all()\n",
    "\n",
    "    # Convert list of tuples into normal list\n",
    "    all_stations = list(np.ravel(results))\n",
    "\n",
    "    return jsonify(all_stations)"
   ]
  },
  {
   "cell_type": "code",
   "execution_count": null,
   "metadata": {
    "collapsed": true
   },
   "outputs": [],
   "source": [
    "@app.route(\"/api/v1.0/<start>\")\n",
    "@app.route(\"/api/v1.0/<start>/<end>\")\n",
    "def temperature_start(start=None, end=None):\n",
    "    if end==None:\n",
    "        start_date = dt.datetime.strptime(start, '%Y-%m-%d')\n",
    "        minimum_temp = session.query(func.min(Measurement.tobs)).\\\n",
    "                    filter(Measurement.date <= start).all()\n",
    "        maximum_temp = session.query(func.max(Measurement.tobs)).\\\n",
    "                    filter(Measurement.date <= start).all()\n",
    "        average_temp = session.query(func.avg(Measurement.tobs)).\\\n",
    "                    filter(Measurement.date <= start).all()\n",
    "        temps2 = (minimum_temp[0], maximum_temp[0], average_temp[0])\n",
    "        return jsonify(temps2)\n",
    "    \n",
    "    else:\n",
    "        start_date = dt.datetime.strptime(start, '%Y-%m-%d')\n",
    "        end_date = dt.datetime.strptime(end,'%Y-%m-%d')\n",
    "        minimum_temp = session.query(func.min(Measurement.tobs)).\\\n",
    "                    filter(Measurement.date >= start).\\\n",
    "                    filter(Measurement.date <= end).all()\n",
    "        maximum_temp = session.query(func.max(Measurement.tobs)).\\\n",
    "                    filter(Measurement.date >= start).\\\n",
    "                    filter(Measurement.date <= end).all()\n",
    "        average_temp = session.query(func.avg(Measurement.tobs)).\\\n",
    "                    filter(Measurement.date >= start).\\\n",
    "        temps = (minimum_temp[0], maximum_temp[0], average_temp[0])\n",
    "        return jsonify(temps) \n",
    "    \n",
    "if __name__ == '__main__':\n",
    "      app.run(debug=True)"
   ]
  }
 ],
 "metadata": {
  "kernelspec": {
   "display_name": "Python 3",
   "language": "python",
   "name": "python3"
  },
  "language_info": {
   "codemirror_mode": {
    "name": "ipython",
    "version": 3
   },
   "file_extension": ".py",
   "mimetype": "text/x-python",
   "name": "python",
   "nbconvert_exporter": "python",
   "pygments_lexer": "ipython3",
   "version": "3.6.3"
  }
 },
 "nbformat": 4,
 "nbformat_minor": 2
}
